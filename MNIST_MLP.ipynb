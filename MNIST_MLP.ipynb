{
  "nbformat": 4,
  "nbformat_minor": 0,
  "metadata": {
    "colab": {
      "name": "MNIST_MLP.ipynb",
      "provenance": [],
      "collapsed_sections": [],
      "authorship_tag": "ABX9TyO5zgJtBzTa43xEq+NlZh6y",
      "include_colab_link": true
    },
    "kernelspec": {
      "name": "python3",
      "display_name": "Python 3"
    },
    "language_info": {
      "name": "python"
    }
  },
  "cells": [
    {
      "cell_type": "markdown",
      "metadata": {
        "id": "view-in-github",
        "colab_type": "text"
      },
      "source": [
        "<a href=\"https://colab.research.google.com/github/quockhanhdao/IASLab/blob/MNIST_MLP/MNIST_MLP.ipynb\" target=\"_parent\"><img src=\"https://colab.research.google.com/assets/colab-badge.svg\" alt=\"Open In Colab\"/></a>"
      ]
    },
    {
      "cell_type": "code",
      "source": [
        "!pip install neptune-client neptune-tensorflow-keras tensorflow"
      ],
      "metadata": {
        "id": "m1PB38NFQT9u"
      },
      "execution_count": null,
      "outputs": []
    },
    {
      "cell_type": "markdown",
      "source": [
        "## Upload file"
      ],
      "metadata": {
        "id": "27NJ22L7PuX2"
      }
    },
    {
      "cell_type": "code",
      "source": [
        "from google.colab import files\n",
        "upload = files.upload()"
      ],
      "metadata": {
        "id": "t1zGCczlPwig"
      },
      "execution_count": null,
      "outputs": []
    },
    {
      "cell_type": "markdown",
      "source": [
        "## Intro"
      ],
      "metadata": {
        "id": "53OK3mPLJ8Bx"
      }
    },
    {
      "cell_type": "code",
      "source": [
        "import tensorflow as tf\n",
        "from keras.datasets import mnist\n",
        "from keras import models\n",
        "from keras import layers\n",
        "from tensorflow.keras.utils import to_categorical\n",
        "import numpy as np"
      ],
      "metadata": {
        "id": "xnFVWn0dKUP3",
        "colab": {
          "base_uri": "https://localhost:8080/"
        },
        "outputId": "d4c93558-63c1-4011-8327-5593f0cf87b6"
      },
      "execution_count": null,
      "outputs": [
        {
          "output_type": "stream",
          "name": "stdout",
          "text": [
            "https://app.neptune.ai/khanh.daoquoc/test-proj/e/TES-14\n",
            "Remember to stop your run once you’ve finished logging your metadata (https://docs.neptune.ai/api-reference/run#.stop). It will be stopped automatically only when the notebook kernel/interactive console is terminated.\n"
          ]
        }
      ]
    },
    {
      "cell_type": "markdown",
      "source": [
        "## Track model"
      ],
      "metadata": {
        "id": "JgX9kRXogz-y"
      }
    },
    {
      "cell_type": "code",
      "source": [
        "import neptune.new as neptune\n",
        "from neptune.new.integrations.tensorflow_keras import NeptuneCallback\n",
        "\n",
        "run = neptune.init(\n",
        "    project=\"khanh.daoquoc/test-proj\",\n",
        "    api_token=\"eyJhcGlfYWRkcmVzcyI6Imh0dHBzOi8vYXBwLm5lcHR1bmUuYWkiLCJhcGlfdXJsIjoiaHR0cHM6Ly9hcHAubmVwdHVuZS5haSIsImFwaV9rZXkiOiI3Mjg4YTFkMy05ODlmLTQ3OWUtOWJhZS0yYjk5YmJlMmQ2NTMifQ==\",\n",
        ")\n",
        "\n",
        "params = {\"layer_1\": 512, \"layer_2\": 128, \"output\": 10,\n",
        "          \"epochs\": 10, \"batch_size\": 100}\n",
        "run[\"parameters\"] = params"
      ],
      "metadata": {
        "colab": {
          "base_uri": "https://localhost:8080/"
        },
        "id": "cSSH5_YHg19O",
        "outputId": "fd035691-3c8a-495c-8c07-571a38c9dc83"
      },
      "execution_count": null,
      "outputs": [
        {
          "output_type": "stream",
          "name": "stdout",
          "text": [
            "https://app.neptune.ai/khanh.daoquoc/test-proj/e/TES-17\n",
            "Remember to stop your run once you’ve finished logging your metadata (https://docs.neptune.ai/api-reference/run#.stop). It will be stopped automatically only when the notebook kernel/interactive console is terminated.\n"
          ]
        }
      ]
    },
    {
      "cell_type": "markdown",
      "source": [
        "## Load data"
      ],
      "metadata": {
        "id": "Bo5Ne4PDKYag"
      }
    },
    {
      "cell_type": "code",
      "source": [
        "# Load data\n",
        "(train_images, train_labels), (test_images, test_labels) = mnist.load_data()\n",
        "\n",
        "print(train_images.shape)\n",
        "print(train_labels.shape)\n",
        "print(test_images.shape)\n",
        "print(test_labels.shape)"
      ],
      "metadata": {
        "id": "PBYLedT6Kr68",
        "colab": {
          "base_uri": "https://localhost:8080/"
        },
        "outputId": "6398d416-922d-4cd5-fd38-b621d771dbb7"
      },
      "execution_count": null,
      "outputs": [
        {
          "output_type": "stream",
          "name": "stdout",
          "text": [
            "(60000, 28, 28)\n",
            "(60000,)\n",
            "(10000, 28, 28)\n",
            "(10000,)\n"
          ]
        }
      ]
    },
    {
      "cell_type": "markdown",
      "source": [
        "## Pre-processing"
      ],
      "metadata": {
        "id": "zrCb-ZgtKsQk"
      }
    },
    {
      "cell_type": "code",
      "source": [
        "# Normalize and scale data\n",
        "scale = 255\n",
        "train_images = train_images.reshape(60000, 28 * 28)\n",
        "train_images = train_images.astype('float32') / scale\n",
        "\n",
        "test_images = test_images.reshape(10000, 28 * 28)\n",
        "test_images = test_images.astype('float') / scale\n",
        "\n",
        "# One-hot encode labels\n",
        "train_labels = to_categorical(train_labels, 10)\n",
        "test_labels = to_categorical(test_labels, 10)"
      ],
      "metadata": {
        "id": "M82PcMylKut1"
      },
      "execution_count": null,
      "outputs": []
    },
    {
      "cell_type": "markdown",
      "source": [
        "## Model"
      ],
      "metadata": {
        "id": "yj-Bc51XKwCS"
      }
    },
    {
      "cell_type": "code",
      "source": [
        "# Construct the model\n",
        "model = models.Sequential()\n",
        "model.add(layers.Dense(params['layer_1'], activation = 'relu', input_shape = (28 * 28,)))\n",
        "model.add(layers.Dropout(0.2))\n",
        "model.add(layers.Dense(params['layer_2'], activation = 'relu'))\n",
        "model.add(layers.Dropout(0.2))\n",
        "model.add(layers.Dense(params['output'], activation = 'softmax'))\n",
        "\n",
        "model.summary()"
      ],
      "metadata": {
        "id": "aixpzGm-K0Tn",
        "colab": {
          "base_uri": "https://localhost:8080/"
        },
        "outputId": "da197276-42bd-4f0a-ca18-b23a530575d1"
      },
      "execution_count": null,
      "outputs": [
        {
          "output_type": "stream",
          "name": "stdout",
          "text": [
            "Model: \"sequential_7\"\n",
            "_________________________________________________________________\n",
            " Layer (type)                Output Shape              Param #   \n",
            "=================================================================\n",
            " dense_21 (Dense)            (None, 512)               401920    \n",
            "                                                                 \n",
            " dropout_14 (Dropout)        (None, 512)               0         \n",
            "                                                                 \n",
            " dense_22 (Dense)            (None, 128)               65664     \n",
            "                                                                 \n",
            " dropout_15 (Dropout)        (None, 128)               0         \n",
            "                                                                 \n",
            " dense_23 (Dense)            (None, 10)                1290      \n",
            "                                                                 \n",
            "=================================================================\n",
            "Total params: 468,874\n",
            "Trainable params: 468,874\n",
            "Non-trainable params: 0\n",
            "_________________________________________________________________\n"
          ]
        }
      ]
    },
    {
      "cell_type": "markdown",
      "source": [
        "## Compile"
      ],
      "metadata": {
        "id": "XjVQ9N-mK0qG"
      }
    },
    {
      "cell_type": "code",
      "source": [
        "# Compile the model\n",
        "model.compile(optimizer = 'rmsprop',\n",
        "              loss = 'categorical_crossentropy',\n",
        "              metrics = ['accuracy'])"
      ],
      "metadata": {
        "id": "cHc4qaL3K59s"
      },
      "execution_count": null,
      "outputs": []
    },
    {
      "cell_type": "markdown",
      "source": [
        "## Start training"
      ],
      "metadata": {
        "id": "C_zaBuQMK8PZ"
      }
    },
    {
      "cell_type": "code",
      "source": [
        "neptune_cbk = NeptuneCallback(run = run, base_namespace = \"training\")\n",
        "\n",
        "model.fit(train_images,\n",
        "          train_labels,\n",
        "          epochs = params['epochs'],\n",
        "          batch_size = params['batch_size'],\n",
        "          callbacks = [neptune_cbk])"
      ],
      "metadata": {
        "id": "R0L-Uf5ULAVB",
        "colab": {
          "base_uri": "https://localhost:8080/"
        },
        "outputId": "8f57c18e-aab6-49fb-927b-431af2f7ddbf"
      },
      "execution_count": null,
      "outputs": [
        {
          "output_type": "stream",
          "name": "stdout",
          "text": [
            "Epoch 1/10\n",
            "600/600 [==============================] - 9s 13ms/step - loss: 0.2617 - accuracy: 0.9219\n",
            "Epoch 2/10\n",
            "600/600 [==============================] - 7s 12ms/step - loss: 0.1111 - accuracy: 0.9666\n",
            "Epoch 3/10\n",
            "600/600 [==============================] - 7s 12ms/step - loss: 0.0814 - accuracy: 0.9755\n",
            "Epoch 4/10\n",
            "600/600 [==============================] - 7s 12ms/step - loss: 0.0685 - accuracy: 0.9797\n",
            "Epoch 5/10\n",
            "600/600 [==============================] - 7s 12ms/step - loss: 0.0573 - accuracy: 0.9837\n",
            "Epoch 6/10\n",
            "600/600 [==============================] - 7s 12ms/step - loss: 0.0499 - accuracy: 0.9848\n",
            "Epoch 7/10\n",
            "600/600 [==============================] - 7s 12ms/step - loss: 0.0446 - accuracy: 0.9869\n",
            "Epoch 8/10\n",
            "600/600 [==============================] - 7s 12ms/step - loss: 0.0396 - accuracy: 0.9882\n",
            "Epoch 9/10\n",
            "600/600 [==============================] - 7s 12ms/step - loss: 0.0372 - accuracy: 0.9888\n",
            "Epoch 10/10\n",
            "600/600 [==============================] - 7s 12ms/step - loss: 0.0345 - accuracy: 0.9898\n"
          ]
        },
        {
          "output_type": "execute_result",
          "data": {
            "text/plain": [
              "<keras.callbacks.History at 0x7f57fb003fd0>"
            ]
          },
          "metadata": {},
          "execution_count": 64
        }
      ]
    },
    {
      "cell_type": "markdown",
      "source": [
        "## Evaluate"
      ],
      "metadata": {
        "id": "m6K6KFaBLB4w"
      }
    },
    {
      "cell_type": "code",
      "source": [
        "eval_metrics = model.evaluate(test_images, test_labels, verbose = 0)\n",
        "\n",
        "for j, metric in enumerate(eval_metrics):\n",
        "  run[\"eval/{}\".format(model.metrics_names[j])] = metric\n",
        "\n",
        "print('Accuracy:', eval_metrics[1])\n",
        "\n",
        "run.stop()"
      ],
      "metadata": {
        "id": "2HywoCaULRiD",
        "colab": {
          "base_uri": "https://localhost:8080/"
        },
        "outputId": "aa61af80-d774-46e3-e345-6959f7448ef0"
      },
      "execution_count": null,
      "outputs": [
        {
          "output_type": "stream",
          "name": "stdout",
          "text": [
            "Accuracy: 0.9840999841690063\n",
            "Shutting down background jobs, please wait a moment...\n",
            "Done!\n",
            "Waiting for the remaining 9 operations to synchronize with Neptune. Do not kill this process.\n",
            "All 9 operations synced, thanks for waiting!\n",
            "Explore the metadata in the Neptune app:\n",
            "https://app.neptune.ai/khanh.daoquoc/test-proj/e/TES-17\n"
          ]
        }
      ]
    },
    {
      "cell_type": "markdown",
      "source": [
        "## Conclusion\n",
        "\n",
        "NULL"
      ],
      "metadata": {
        "id": "G18bzc6DLUFx"
      }
    }
  ]
}