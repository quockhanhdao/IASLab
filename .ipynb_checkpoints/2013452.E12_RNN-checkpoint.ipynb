{
 "cells": [
  {
   "cell_type": "markdown",
   "metadata": {
    "colab_type": "text",
    "id": "8yiE-PLx7NKg"
   },
   "source": [
    "# RNN\n",
    "\n",
    "Trong bài này chúng ta sẽ làm quen với RNN và làm việc với Estimator trên Tensorflow.\n",
    "\n",
    "Sinh viên sinh viên phải cập nhật Tensorflow lên bản mới nhất 1.4 để thực thi được một số đoạn code mẫu.\n",
    "\n",
    "Bài tập được biên soạn từ có tham khảo ở các nguồn sau đây có chỉnh sửa:\n",
    "\n",
    "[aymericdamien](https://github.com/aymericdamien/TensorFlow-Examples/blob/master/examples/3_NeuralNetworks/recurrent_network.py)\n",
    "\n",
    "[tensorflow example](https://github.com/tensorflow/tensorflow/blob/master/tensorflow/examples/learn/mnist.py)\n",
    "\n",
    "Dữ liệu dữ liệu được sử dụng trong bài tập này là dữ liệu MNIST đã quen thuộc ở các bài trước."
   ]
  },
  {
   "cell_type": "code",
   "execution_count": 1,
   "metadata": {
    "colab": {
     "autoexec": {
      "startup": false,
      "wait_interval": 0
     }
    },
    "colab_type": "code",
    "id": "HTS3Zjn-7NKi",
    "vscode": {
     "languageId": "python"
    }
   },
   "outputs": [
    {
     "ename": "ModuleNotFoundError",
     "evalue": "No module named 'tensorflow.contrib'",
     "output_type": "error",
     "traceback": [
      "\u001b[1;31m---------------------------------------------------------------------------\u001b[0m",
      "\u001b[1;31mModuleNotFoundError\u001b[0m                       Traceback (most recent call last)",
      "Input \u001b[1;32mIn [1]\u001b[0m, in \u001b[0;36m<cell line: 5>\u001b[1;34m()\u001b[0m\n\u001b[0;32m      3\u001b[0m \u001b[38;5;28;01mimport\u001b[39;00m \u001b[38;5;21;01mnumpy\u001b[39;00m \u001b[38;5;28;01mas\u001b[39;00m \u001b[38;5;21;01mnp\u001b[39;00m\n\u001b[0;32m      4\u001b[0m \u001b[38;5;28;01mimport\u001b[39;00m \u001b[38;5;21;01mtensorflow\u001b[39;00m \u001b[38;5;28;01mas\u001b[39;00m \u001b[38;5;21;01mtf\u001b[39;00m\n\u001b[1;32m----> 5\u001b[0m \u001b[38;5;28;01mfrom\u001b[39;00m \u001b[38;5;21;01mtensorflow\u001b[39;00m\u001b[38;5;21;01m.\u001b[39;00m\u001b[38;5;21;01mcontrib\u001b[39;00m \u001b[38;5;28;01mimport\u001b[39;00m rnn\n",
      "\u001b[1;31mModuleNotFoundError\u001b[0m: No module named 'tensorflow.contrib'"
     ]
    }
   ],
   "source": [
    "from __future__ import print_function\n",
    "\n",
    "import numpy as np\n",
    "import tensorflow as tf\n",
    "from tensorflow.contrib import rnn"
   ]
  },
  {
   "cell_type": "markdown",
   "metadata": {
    "colab_type": "text",
    "id": "bjIquSCW7NKm"
   },
   "source": [
    "Các tham số cần thiết"
   ]
  },
  {
   "cell_type": "code",
   "execution_count": null,
   "metadata": {
    "colab": {
     "autoexec": {
      "startup": false,
      "wait_interval": 0
     }
    },
    "colab_type": "code",
    "id": "7pxa7ZSs7NKm",
    "vscode": {
     "languageId": "python"
    }
   },
   "outputs": [],
   "source": [
    "# Training Parameters\n",
    "params = {\n",
    "    'learning_rate': 0.001,\n",
    "    'training_steps': 20000,\n",
    "    'batch_size': 128,\n",
    "    'display_step': 100,\n",
    "\n",
    "    # Network Parameters\n",
    "    'num_input': 28,  # MNIST data input (img shape: 28*28)\n",
    "    'timesteps': 28,  # timesteps\n",
    "    'num_hidden': 128,  # hidden layer num of features\n",
    "    'num_classes': 10  # MNIST total classes (0-9 digits)\n",
    "}"
   ]
  },
  {
   "cell_type": "markdown",
   "metadata": {
    "colab_type": "text",
    "id": "uo9GFoIG7NKp"
   },
   "source": [
    "Ở đây, chúng ta làm quen với Estimator \"High level tools for working with models\".\n",
    "\n",
    "Chúng ta sẽ tách rời estimator spec và model, với mỗi bài toán xác định thì spec gần như không đổi, do đó chúng ta có thể  **tái sử dụng cho nhiều model khác nhau**.\n",
    "\n",
    "Spec này được sử dụng cho bài toán MNIST ở bên dưới, tùy theo mode (training, evaluation, predict) mà một số tham số sẽ bị bỏ qua. \n",
    "\n",
    "Chúng ta có thể tận dụng nó ở các bước training, evaluation và test."
   ]
  },
  {
   "cell_type": "code",
   "execution_count": null,
   "metadata": {
    "colab": {
     "autoexec": {
      "startup": false,
      "wait_interval": 0
     }
    },
    "colab_type": "code",
    "id": "rzv_t2qS7NKp",
    "vscode": {
     "languageId": "python"
    }
   },
   "outputs": [],
   "source": [
    "def estimator_spec(logits, labels, mode, params):\n",
    "    loss, train_op, predictions = None, None, None\n",
    "    if mode == tf.estimator.ModeKeys.TRAIN or mode == tf.estimator.ModeKeys.EVAL:\n",
    "        onehot_labels = tf.one_hot(labels, params['num_classes'], 1, 0)\n",
    "        loss = tf.reduce_mean(tf.nn.softmax_cross_entropy_with_logits(logits=logits, labels=onehot_labels))\n",
    "\n",
    "    if mode == tf.estimator.ModeKeys.TRAIN:\n",
    "        optimizer = tf.train.GradientDescentOptimizer(learning_rate=params['learning_rate'])\n",
    "        train_op = optimizer.minimize(loss, global_step=tf.train.get_global_step())\n",
    "\n",
    "    if mode == tf.estimator.ModeKeys.PREDICT:\n",
    "        predictions = {'prediction': tf.argmax(logits, 1),\n",
    "                       'prob': tf.nn.softmax(logits)}\n",
    "    eval_metric_ops = {'accuracy': tf.metrics.accuracy(labels=labels, predictions=tf.argmax(logits, 1))}\n",
    "    return tf.estimator.EstimatorSpec(\n",
    "        mode=mode,\n",
    "        predictions=predictions,\n",
    "        loss=loss,\n",
    "        train_op=train_op,\n",
    "        eval_metric_ops=eval_metric_ops)"
   ]
  },
  {
   "cell_type": "markdown",
   "metadata": {
    "colab_type": "text",
    "id": "56m4JiW-7NKr"
   },
   "source": [
    "Phía phía dưới là model, chúng ta định nghĩa một hàm 1 model_fn để chuyển vào estimator sẽ gọi lại sau.\n",
    "\n",
    "Hàm này nhận các tham số theo đặc tả **chú ý thứ tự** tham số:\n",
    "\n",
    "- *features* sẽ nhớ các thông tin về  input.\n",
    "- *labels* các nhãn (0..9) tương ứng với giá trị đúng của bức hình đó.\n",
    "- mode tham khảo thêm\n",
    "- *params* các tham số chúng ta đưa thêm vào theo cấu hình ở trên\n",
    "\n",
    "*Dữ liệu đưa vào đây sẽ ở dạng batch*\n",
    "\n",
    "Hàm sẽ trả về 1 estimator spec như đã được định nghĩa ở phần trước trên."
   ]
  },
  {
   "cell_type": "code",
   "execution_count": 2,
   "metadata": {
    "colab": {
     "autoexec": {
      "startup": false,
      "wait_interval": 0
     }
    },
    "colab_type": "code",
    "id": "XEVp6vEB7NKs",
    "vscode": {
     "languageId": "python"
    }
   },
   "outputs": [],
   "source": [
    "def model_fn(features, labels, mode, params):\n",
    "    '''\n",
    "    To classify images using a recurrent neural network, we consider every image\n",
    "    row as a sequence of pixels. Because MNIST image shape is 28*28px, we will then\n",
    "    handle 28 sequences of 28 steps for every sample.\n",
    "    '''\n",
    "\n",
    "    x = tf.reshape(features['x'], [-1, params['timesteps'], params['num_input']])\n",
    "    # Unstack to get a list of 'timesteps' tensors of shape (batch_size, n_input)\n",
    "    x = tf.unstack(x, params['timesteps'], 1)\n",
    "\n",
    "    # Define a lstm cell with tensorflow\n",
    "    lstm_cell = rnn.BasicLSTMCell(params['num_hidden'], forget_bias=1.0)\n",
    "\n",
    "    # Get lstm cell output\n",
    "    outputs, states = rnn.static_rnn(lstm_cell, x, dtype=tf.float32)\n",
    "    # outputs, states = tf.nn.dynamic_rnn(lstm_cell, x, dtype=tf.float32)\n",
    "\n",
    "    # Linear activation, using rnn inner loop last output\n",
    "    logits = tf.layers.dense(states[-1], units=params['num_classes'])\n",
    "    return estimator_spec(logits=logits, labels=labels, mode=mode, params=params)"
   ]
  },
  {
   "cell_type": "code",
   "execution_count": 3,
   "metadata": {
    "colab": {
     "autoexec": {
      "startup": false,
      "wait_interval": 0
     }
    },
    "colab_type": "code",
    "id": "7LBi1VG47NKv",
    "vscode": {
     "languageId": "python"
    }
   },
   "outputs": [],
   "source": [
    "def main(args = None):\n",
    "    run_config = tf.estimator.RunConfig()\n",
    "    # run_config = run_config.replace(**{'save_checkpoints_steps': 100, 'keep_checkpoint_max': 20})\n",
    "    classifier = tf.estimator.Estimator(model_fn=model_fn,\n",
    "                                        model_dir='drive/tmp/checkpoint',\n",
    "                                        params=params,\n",
    "                                        config=run_config)\n",
    "\n",
    "    # make data\n",
    "    mnist = tf.contrib.learn.datasets.DATASETS['mnist']('/tmp/mnist')\n",
    "    \n",
    "    train_input_fn = tf.estimator.inputs.numpy_input_fn(\n",
    "        x = {'x': mnist.train.images},\n",
    "        y = mnist.train.labels.astype(np.int32),\n",
    "        batch_size=params['batch_size'],\n",
    "        num_epochs=None,\n",
    "        shuffle=True)\n",
    "\n",
    "    eval_input_fn = tf.estimator.inputs.numpy_input_fn(\n",
    "        x={'x': mnist.train.images},\n",
    "        y=mnist.train.labels.astype(np.int32),\n",
    "        num_epochs=1,\n",
    "        shuffle=False)\n",
    "\n",
    "    # classifier.train(input_fn=train_input_fn, steps=params['training_steps'], hooks=[])\n",
    "\n",
    "    train_spec = tf.estimator.TrainSpec(input_fn=train_input_fn, max_steps=params['training_steps'])\n",
    "    eval_spec = tf.estimator.EvalSpec(input_fn=eval_input_fn)\n",
    "    tf.estimator.train_and_evaluate(classifier, train_spec, eval_spec)\n",
    "    score = classifier.evaluate(eval_input_fn, steps=1)\n",
    "    print(score)"
   ]
  },
  {
   "cell_type": "code",
   "execution_count": 38,
   "metadata": {
    "colab": {
     "autoexec": {
      "startup": false,
      "wait_interval": 0
     },
     "base_uri": "https://localhost:8080/",
     "height": 8047,
     "output_extras": [
      {
       "item_id": 38
      },
      {
       "item_id": 95
      },
      {
       "item_id": 155
      },
      {
       "item_id": 204
      },
      {
       "item_id": 243
      },
      {
       "item_id": 285
      },
      {
       "item_id": 321
      },
      {
       "item_id": 324
      }
     ]
    },
    "colab_type": "code",
    "executionInfo": {
     "elapsed": 354015,
     "status": "ok",
     "timestamp": 1521694393651,
     "user": {
      "displayName": "HUNG VO THANH",
      "photoUrl": "https://lh3.googleusercontent.com/a/default-user=s128",
      "userId": "105159552521207861593"
     },
     "user_tz": -420
    },
    "id": "NejE3sq07NKx",
    "outputId": "292acd07-f982-4fa7-d6fb-e2c4971c4d00",
    "vscode": {
     "languageId": "python"
    }
   },
   "outputs": [
    {
     "name": "stdout",
     "output_type": "stream",
     "text": [
      "INFO:tensorflow:Using config: {'_model_dir': 'drive/tmp/checkpoint', '_tf_random_seed': None, '_save_summary_steps': 100, '_save_checkpoints_steps': None, '_save_checkpoints_secs': 600, '_session_config': None, '_keep_checkpoint_max': 5, '_keep_checkpoint_every_n_hours': 10000, '_log_step_count_steps': 100, '_service': None, '_cluster_spec': <tensorflow.python.training.server_lib.ClusterSpec object at 0x7fde7aee1160>, '_task_type': 'worker', '_task_id': 0, '_global_id_in_cluster': 0, '_master': '', '_evaluation_master': '', '_is_chief': True, '_num_ps_replicas': 0, '_num_worker_replicas': 1}\n",
      "Extracting /tmp/mnist/train-images-idx3-ubyte.gz\n",
      "Extracting /tmp/mnist/train-labels-idx1-ubyte.gz\n",
      "Extracting /tmp/mnist/t10k-images-idx3-ubyte.gz\n",
      "Extracting /tmp/mnist/t10k-labels-idx1-ubyte.gz\n",
      "INFO:tensorflow:Running training and evaluation locally (non-distributed).\n",
      "INFO:tensorflow:Start train and evaluate loop. The evaluate will happen after 600 secs (eval_spec.throttle_secs) or training is finished.\n",
      "INFO:tensorflow:Calling model_fn.\n",
      "INFO:tensorflow:Done calling model_fn.\n",
      "INFO:tensorflow:Create CheckpointSaverHook.\n",
      "INFO:tensorflow:Graph was finalized.\n",
      "INFO:tensorflow:Running local_init_op.\n",
      "INFO:tensorflow:Done running local_init_op.\n",
      "INFO:tensorflow:Saving checkpoints for 1 into drive/tmp/checkpoint/model.ckpt.\n",
      "INFO:tensorflow:loss = 2.314204, step = 1\n",
      "INFO:tensorflow:global_step/sec: 52.4371\n",
      "INFO:tensorflow:loss = 2.3125792, step = 101 (1.913 sec)\n",
      "INFO:tensorflow:global_step/sec: 66.0521\n",
      "INFO:tensorflow:loss = 2.2993574, step = 201 (1.511 sec)\n",
      "INFO:tensorflow:global_step/sec: 66.2268\n",
      "INFO:tensorflow:loss = 2.3010194, step = 301 (1.510 sec)\n",
      "INFO:tensorflow:global_step/sec: 66.4985\n",
      "INFO:tensorflow:loss = 2.3019938, step = 401 (1.503 sec)\n",
      "INFO:tensorflow:global_step/sec: 66.3318\n",
      "INFO:tensorflow:loss = 2.2946925, step = 501 (1.520 sec)\n",
      "INFO:tensorflow:global_step/sec: 65.244\n",
      "INFO:tensorflow:loss = 2.2884896, step = 601 (1.523 sec)\n",
      "INFO:tensorflow:global_step/sec: 66.424\n",
      "INFO:tensorflow:loss = 2.2879, step = 701 (1.503 sec)\n",
      "INFO:tensorflow:global_step/sec: 65.6842\n",
      "INFO:tensorflow:loss = 2.2968829, step = 801 (1.525 sec)\n",
      "INFO:tensorflow:global_step/sec: 66.0079\n",
      "INFO:tensorflow:loss = 2.287768, step = 901 (1.515 sec)\n",
      "INFO:tensorflow:global_step/sec: 66.0689\n",
      "INFO:tensorflow:loss = 2.272183, step = 1001 (1.514 sec)\n",
      "INFO:tensorflow:global_step/sec: 65.8127\n",
      "INFO:tensorflow:loss = 2.2748897, step = 1101 (1.516 sec)\n",
      "INFO:tensorflow:global_step/sec: 66.0955\n",
      "INFO:tensorflow:loss = 2.2692451, step = 1201 (1.514 sec)\n",
      "INFO:tensorflow:global_step/sec: 65.904\n",
      "INFO:tensorflow:loss = 2.282738, step = 1301 (1.533 sec)\n",
      "INFO:tensorflow:global_step/sec: 65.4752\n",
      "INFO:tensorflow:loss = 2.269691, step = 1401 (1.512 sec)\n",
      "INFO:tensorflow:global_step/sec: 66.5193\n",
      "INFO:tensorflow:loss = 2.2649903, step = 1501 (1.506 sec)\n",
      "INFO:tensorflow:global_step/sec: 65.695\n",
      "INFO:tensorflow:loss = 2.2691183, step = 1601 (1.522 sec)\n",
      "INFO:tensorflow:global_step/sec: 66.2699\n",
      "INFO:tensorflow:loss = 2.2493234, step = 1701 (1.505 sec)\n",
      "INFO:tensorflow:global_step/sec: 66.1786\n",
      "INFO:tensorflow:loss = 2.2750056, step = 1801 (1.511 sec)\n",
      "INFO:tensorflow:global_step/sec: 66.2379\n",
      "INFO:tensorflow:loss = 2.2592065, step = 1901 (1.511 sec)\n",
      "INFO:tensorflow:global_step/sec: 66.2026\n",
      "INFO:tensorflow:loss = 2.2503119, step = 2001 (1.509 sec)\n",
      "INFO:tensorflow:global_step/sec: 66.7239\n",
      "INFO:tensorflow:loss = 2.2520523, step = 2101 (1.507 sec)\n",
      "INFO:tensorflow:global_step/sec: 66.274\n",
      "INFO:tensorflow:loss = 2.2329931, step = 2201 (1.501 sec)\n",
      "INFO:tensorflow:global_step/sec: 66.1049\n",
      "INFO:tensorflow:loss = 2.2277422, step = 2301 (1.513 sec)\n",
      "INFO:tensorflow:global_step/sec: 65.7101\n",
      "INFO:tensorflow:loss = 2.223166, step = 2401 (1.523 sec)\n",
      "INFO:tensorflow:global_step/sec: 66.2507\n",
      "INFO:tensorflow:loss = 2.2120044, step = 2501 (1.507 sec)\n",
      "INFO:tensorflow:global_step/sec: 66.4998\n",
      "INFO:tensorflow:loss = 2.2254877, step = 2601 (1.505 sec)\n",
      "INFO:tensorflow:global_step/sec: 45.3022\n",
      "INFO:tensorflow:loss = 2.2127461, step = 2701 (2.210 sec)\n",
      "INFO:tensorflow:global_step/sec: 65.9863\n",
      "INFO:tensorflow:loss = 2.205542, step = 2801 (1.512 sec)\n",
      "INFO:tensorflow:global_step/sec: 66.4163\n",
      "INFO:tensorflow:loss = 2.2290077, step = 2901 (1.506 sec)\n",
      "INFO:tensorflow:global_step/sec: 65.5256\n",
      "INFO:tensorflow:loss = 2.220622, step = 3001 (1.528 sec)\n",
      "INFO:tensorflow:global_step/sec: 66.1577\n",
      "INFO:tensorflow:loss = 2.1906042, step = 3101 (1.510 sec)\n",
      "INFO:tensorflow:global_step/sec: 66.5854\n",
      "INFO:tensorflow:loss = 2.1600504, step = 3201 (1.515 sec)\n",
      "INFO:tensorflow:global_step/sec: 65.7447\n",
      "INFO:tensorflow:loss = 2.2262895, step = 3301 (1.511 sec)\n",
      "INFO:tensorflow:global_step/sec: 66.5856\n",
      "INFO:tensorflow:loss = 2.1662066, step = 3401 (1.500 sec)\n",
      "INFO:tensorflow:global_step/sec: 65.897\n",
      "INFO:tensorflow:loss = 2.1901412, step = 3501 (1.517 sec)\n",
      "INFO:tensorflow:global_step/sec: 66.4312\n",
      "INFO:tensorflow:loss = 2.1318057, step = 3601 (1.504 sec)\n",
      "INFO:tensorflow:global_step/sec: 66.0313\n",
      "INFO:tensorflow:loss = 2.1356869, step = 3701 (1.518 sec)\n",
      "INFO:tensorflow:global_step/sec: 65.943\n",
      "INFO:tensorflow:loss = 2.1479437, step = 3801 (1.516 sec)\n",
      "INFO:tensorflow:global_step/sec: 66.4205\n",
      "INFO:tensorflow:loss = 2.0723934, step = 3901 (1.506 sec)\n",
      "INFO:tensorflow:global_step/sec: 66.2831\n",
      "INFO:tensorflow:loss = 2.1012523, step = 4001 (1.516 sec)\n",
      "INFO:tensorflow:global_step/sec: 66.3939\n",
      "INFO:tensorflow:loss = 2.0926156, step = 4101 (1.495 sec)\n",
      "INFO:tensorflow:global_step/sec: 66.6882\n",
      "INFO:tensorflow:loss = 2.1052933, step = 4201 (1.504 sec)\n",
      "INFO:tensorflow:global_step/sec: 65.9428\n",
      "INFO:tensorflow:loss = 2.0474083, step = 4301 (1.517 sec)\n",
      "INFO:tensorflow:global_step/sec: 66.2563\n",
      "INFO:tensorflow:loss = 2.1110225, step = 4401 (1.507 sec)\n",
      "INFO:tensorflow:global_step/sec: 66.164\n",
      "INFO:tensorflow:loss = 2.0630915, step = 4501 (1.510 sec)\n",
      "INFO:tensorflow:global_step/sec: 65.7516\n",
      "INFO:tensorflow:loss = 1.9876193, step = 4601 (1.521 sec)\n",
      "INFO:tensorflow:global_step/sec: 66.3142\n",
      "INFO:tensorflow:loss = 1.9896364, step = 4701 (1.512 sec)\n",
      "INFO:tensorflow:global_step/sec: 65.9313\n",
      "INFO:tensorflow:loss = 2.0308032, step = 4801 (1.516 sec)\n",
      "INFO:tensorflow:global_step/sec: 65.7739\n",
      "INFO:tensorflow:loss = 2.03448, step = 4901 (1.517 sec)\n",
      "INFO:tensorflow:global_step/sec: 66.5787\n",
      "INFO:tensorflow:loss = 1.9870486, step = 5001 (1.504 sec)\n",
      "INFO:tensorflow:global_step/sec: 66.4043\n",
      "INFO:tensorflow:loss = 2.0329654, step = 5101 (1.513 sec)\n",
      "INFO:tensorflow:global_step/sec: 65.9514\n",
      "INFO:tensorflow:loss = 1.9945663, step = 5201 (1.508 sec)\n",
      "INFO:tensorflow:global_step/sec: 66.291\n",
      "INFO:tensorflow:loss = 1.9997416, step = 5301 (1.513 sec)\n",
      "INFO:tensorflow:global_step/sec: 65.7126\n",
      "INFO:tensorflow:loss = 2.0208254, step = 5401 (1.520 sec)\n",
      "INFO:tensorflow:global_step/sec: 66.2277\n",
      "INFO:tensorflow:loss = 1.9813541, step = 5501 (1.511 sec)\n",
      "INFO:tensorflow:global_step/sec: 66.4297\n",
      "INFO:tensorflow:loss = 2.005623, step = 5601 (1.505 sec)\n",
      "INFO:tensorflow:global_step/sec: 65.9229\n",
      "INFO:tensorflow:loss = 1.9700527, step = 5701 (1.517 sec)\n",
      "INFO:tensorflow:global_step/sec: 65.7235\n",
      "INFO:tensorflow:loss = 1.9048386, step = 5801 (1.522 sec)\n",
      "INFO:tensorflow:global_step/sec: 66.1571\n",
      "INFO:tensorflow:loss = 1.9387859, step = 5901 (1.517 sec)\n",
      "INFO:tensorflow:global_step/sec: 66.0243\n",
      "INFO:tensorflow:loss = 1.9015784, step = 6001 (1.507 sec)\n",
      "INFO:tensorflow:global_step/sec: 66.1464\n",
      "INFO:tensorflow:loss = 2.0047016, step = 6101 (1.513 sec)\n",
      "INFO:tensorflow:global_step/sec: 65.1114\n",
      "INFO:tensorflow:loss = 1.8572148, step = 6201 (1.532 sec)\n",
      "INFO:tensorflow:global_step/sec: 66.109\n",
      "INFO:tensorflow:loss = 1.9393816, step = 6301 (1.513 sec)\n",
      "INFO:tensorflow:global_step/sec: 66.0156\n",
      "INFO:tensorflow:loss = 1.854742, step = 6401 (1.518 sec)\n",
      "INFO:tensorflow:global_step/sec: 65.655\n",
      "INFO:tensorflow:loss = 1.8575604, step = 6501 (1.526 sec)\n",
      "INFO:tensorflow:global_step/sec: 66.4271\n",
      "INFO:tensorflow:loss = 1.820959, step = 6601 (2.151 sec)\n",
      "INFO:tensorflow:global_step/sec: 46.4257\n",
      "INFO:tensorflow:loss = 1.8619628, step = 6701 (1.506 sec)\n",
      "INFO:tensorflow:global_step/sec: 66.6804\n",
      "INFO:tensorflow:loss = 1.8799615, step = 6801 (1.496 sec)\n",
      "INFO:tensorflow:global_step/sec: 66.4721\n",
      "INFO:tensorflow:loss = 1.8460975, step = 6901 (1.506 sec)\n",
      "INFO:tensorflow:global_step/sec: 66.4027\n",
      "INFO:tensorflow:loss = 1.8596629, step = 7001 (1.505 sec)\n",
      "INFO:tensorflow:global_step/sec: 66.0898\n",
      "INFO:tensorflow:loss = 1.7876334, step = 7101 (1.511 sec)\n",
      "INFO:tensorflow:global_step/sec: 66.2215\n",
      "INFO:tensorflow:loss = 1.8329993, step = 7201 (1.511 sec)\n",
      "INFO:tensorflow:global_step/sec: 66.7396\n",
      "INFO:tensorflow:loss = 1.8029479, step = 7301 (1.498 sec)\n",
      "INFO:tensorflow:global_step/sec: 65.71\n",
      "INFO:tensorflow:loss = 1.8282744, step = 7401 (1.522 sec)\n",
      "INFO:tensorflow:global_step/sec: 65.9166\n",
      "INFO:tensorflow:loss = 1.7338299, step = 7501 (1.518 sec)\n",
      "INFO:tensorflow:global_step/sec: 66.3516\n",
      "INFO:tensorflow:loss = 1.8180394, step = 7601 (1.507 sec)\n",
      "INFO:tensorflow:global_step/sec: 66.7734\n",
      "INFO:tensorflow:loss = 1.6706989, step = 7701 (1.508 sec)\n",
      "INFO:tensorflow:global_step/sec: 65.0496\n",
      "INFO:tensorflow:loss = 1.8503838, step = 7801 (1.528 sec)\n",
      "INFO:tensorflow:global_step/sec: 66.344\n",
      "INFO:tensorflow:loss = 1.7018138, step = 7901 (1.506 sec)\n",
      "INFO:tensorflow:global_step/sec: 66.9232\n",
      "INFO:tensorflow:loss = 1.7899235, step = 8001 (1.494 sec)\n",
      "INFO:tensorflow:global_step/sec: 66.0399\n",
      "INFO:tensorflow:loss = 1.6796156, step = 8101 (1.520 sec)\n"
     ]
    },
    {
     "name": "stdout",
     "output_type": "stream",
     "text": [
      "INFO:tensorflow:global_step/sec: 66.5157\n",
      "INFO:tensorflow:loss = 1.767452, step = 8201 (1.497 sec)\n",
      "INFO:tensorflow:global_step/sec: 65.9135\n",
      "INFO:tensorflow:loss = 1.6986718, step = 8301 (1.519 sec)\n",
      "INFO:tensorflow:global_step/sec: 66.1546\n",
      "INFO:tensorflow:loss = 1.6324583, step = 8401 (1.509 sec)\n",
      "INFO:tensorflow:global_step/sec: 65.8042\n",
      "INFO:tensorflow:loss = 1.7258601, step = 8501 (1.530 sec)\n",
      "INFO:tensorflow:global_step/sec: 65.9783\n",
      "INFO:tensorflow:loss = 1.627578, step = 8601 (1.508 sec)\n",
      "INFO:tensorflow:global_step/sec: 66.4243\n",
      "INFO:tensorflow:loss = 1.7131598, step = 8701 (1.505 sec)\n",
      "INFO:tensorflow:global_step/sec: 65.3071\n",
      "INFO:tensorflow:loss = 1.6447136, step = 8801 (1.534 sec)\n",
      "INFO:tensorflow:global_step/sec: 66.3051\n",
      "INFO:tensorflow:loss = 1.7591014, step = 8901 (1.504 sec)\n",
      "INFO:tensorflow:global_step/sec: 66.3309\n",
      "INFO:tensorflow:loss = 1.4782634, step = 9001 (1.507 sec)\n",
      "INFO:tensorflow:global_step/sec: 65.8483\n",
      "INFO:tensorflow:loss = 1.6165967, step = 9101 (1.520 sec)\n",
      "INFO:tensorflow:global_step/sec: 66.0665\n",
      "INFO:tensorflow:loss = 1.715932, step = 9201 (1.510 sec)\n",
      "INFO:tensorflow:global_step/sec: 66.4921\n",
      "INFO:tensorflow:loss = 1.6521782, step = 9301 (1.508 sec)\n",
      "INFO:tensorflow:global_step/sec: 66.0765\n",
      "INFO:tensorflow:loss = 1.6692102, step = 9401 (1.510 sec)\n",
      "INFO:tensorflow:global_step/sec: 66.067\n",
      "INFO:tensorflow:loss = 1.6295092, step = 9501 (1.516 sec)\n",
      "INFO:tensorflow:global_step/sec: 66.5642\n",
      "INFO:tensorflow:loss = 1.518332, step = 9601 (1.513 sec)\n",
      "INFO:tensorflow:global_step/sec: 65.8921\n",
      "INFO:tensorflow:loss = 1.6306478, step = 9701 (1.505 sec)\n",
      "INFO:tensorflow:global_step/sec: 66.4954\n",
      "INFO:tensorflow:loss = 1.6187804, step = 9801 (1.503 sec)\n",
      "INFO:tensorflow:global_step/sec: 65.5171\n",
      "INFO:tensorflow:loss = 1.5684865, step = 9901 (1.527 sec)\n",
      "INFO:tensorflow:global_step/sec: 66.9739\n",
      "INFO:tensorflow:loss = 1.5872455, step = 10001 (1.496 sec)\n",
      "INFO:tensorflow:global_step/sec: 66.1978\n",
      "INFO:tensorflow:loss = 1.5284293, step = 10101 (1.509 sec)\n",
      "INFO:tensorflow:global_step/sec: 65.5746\n",
      "INFO:tensorflow:loss = 1.6194384, step = 10201 (1.524 sec)\n",
      "INFO:tensorflow:global_step/sec: 66.5382\n",
      "INFO:tensorflow:loss = 1.5846682, step = 10301 (1.502 sec)\n",
      "INFO:tensorflow:global_step/sec: 66.3209\n",
      "INFO:tensorflow:loss = 1.5882199, step = 10401 (1.520 sec)\n",
      "INFO:tensorflow:global_step/sec: 65.6101\n",
      "INFO:tensorflow:loss = 1.5622413, step = 10501 (1.518 sec)\n",
      "INFO:tensorflow:global_step/sec: 65.8194\n",
      "INFO:tensorflow:loss = 1.5550549, step = 10601 (1.516 sec)\n",
      "INFO:tensorflow:global_step/sec: 39.9124\n",
      "INFO:tensorflow:loss = 1.475455, step = 10701 (2.506 sec)\n",
      "INFO:tensorflow:global_step/sec: 66.113\n",
      "INFO:tensorflow:loss = 1.6592261, step = 10801 (1.513 sec)\n",
      "INFO:tensorflow:global_step/sec: 66.0175\n",
      "INFO:tensorflow:loss = 1.5828356, step = 10901 (1.514 sec)\n",
      "INFO:tensorflow:global_step/sec: 66.0585\n",
      "INFO:tensorflow:loss = 1.5037109, step = 11001 (1.512 sec)\n",
      "INFO:tensorflow:global_step/sec: 66.9134\n",
      "INFO:tensorflow:loss = 1.4583496, step = 11101 (1.497 sec)\n",
      "INFO:tensorflow:global_step/sec: 65.5455\n",
      "INFO:tensorflow:loss = 1.5558596, step = 11201 (1.525 sec)\n",
      "INFO:tensorflow:global_step/sec: 66.0207\n",
      "INFO:tensorflow:loss = 1.5316291, step = 11301 (1.513 sec)\n",
      "INFO:tensorflow:global_step/sec: 66.2385\n",
      "INFO:tensorflow:loss = 1.5551267, step = 11401 (1.514 sec)\n",
      "INFO:tensorflow:global_step/sec: 66.2442\n",
      "INFO:tensorflow:loss = 1.4292092, step = 11501 (1.517 sec)\n",
      "INFO:tensorflow:global_step/sec: 66.003\n",
      "INFO:tensorflow:loss = 1.5502374, step = 11601 (1.507 sec)\n",
      "INFO:tensorflow:global_step/sec: 66.5064\n",
      "INFO:tensorflow:loss = 1.4864316, step = 11701 (1.501 sec)\n",
      "INFO:tensorflow:global_step/sec: 65.9467\n",
      "INFO:tensorflow:loss = 1.3415502, step = 11801 (1.519 sec)\n",
      "INFO:tensorflow:global_step/sec: 66.2421\n",
      "INFO:tensorflow:loss = 1.6193764, step = 11901 (1.507 sec)\n",
      "INFO:tensorflow:global_step/sec: 66.5266\n",
      "INFO:tensorflow:loss = 1.3604186, step = 12001 (1.503 sec)\n",
      "INFO:tensorflow:global_step/sec: 66.2182\n",
      "INFO:tensorflow:loss = 1.4094304, step = 12101 (1.508 sec)\n",
      "INFO:tensorflow:global_step/sec: 65.9083\n",
      "INFO:tensorflow:loss = 1.4595361, step = 12201 (1.518 sec)\n",
      "INFO:tensorflow:global_step/sec: 66.0977\n",
      "INFO:tensorflow:loss = 1.4322423, step = 12301 (1.521 sec)\n",
      "INFO:tensorflow:global_step/sec: 65.8859\n",
      "INFO:tensorflow:loss = 1.4811491, step = 12401 (1.512 sec)\n",
      "INFO:tensorflow:global_step/sec: 66.0911\n",
      "INFO:tensorflow:loss = 1.3464155, step = 12501 (1.516 sec)\n",
      "INFO:tensorflow:global_step/sec: 65.1705\n",
      "INFO:tensorflow:loss = 1.2837086, step = 12601 (1.532 sec)\n",
      "INFO:tensorflow:global_step/sec: 66.2909\n",
      "INFO:tensorflow:loss = 1.2865069, step = 12701 (1.509 sec)\n",
      "INFO:tensorflow:global_step/sec: 66.6595\n",
      "INFO:tensorflow:loss = 1.1486567, step = 12801 (1.502 sec)\n",
      "INFO:tensorflow:global_step/sec: 65.3306\n",
      "INFO:tensorflow:loss = 1.4475439, step = 12901 (1.529 sec)\n",
      "INFO:tensorflow:global_step/sec: 66.5236\n",
      "INFO:tensorflow:loss = 1.468612, step = 13001 (1.504 sec)\n",
      "INFO:tensorflow:global_step/sec: 65.7842\n",
      "INFO:tensorflow:loss = 1.3452144, step = 13101 (1.517 sec)\n",
      "INFO:tensorflow:global_step/sec: 66.0627\n",
      "INFO:tensorflow:loss = 1.3297489, step = 13201 (1.512 sec)\n",
      "INFO:tensorflow:global_step/sec: 66.0206\n",
      "INFO:tensorflow:loss = 1.3544843, step = 13301 (1.519 sec)\n",
      "INFO:tensorflow:global_step/sec: 66.0775\n",
      "INFO:tensorflow:loss = 1.298425, step = 13401 (1.518 sec)\n",
      "INFO:tensorflow:global_step/sec: 65.7749\n",
      "INFO:tensorflow:loss = 1.3017328, step = 13501 (1.513 sec)\n",
      "INFO:tensorflow:global_step/sec: 66.2235\n",
      "INFO:tensorflow:loss = 1.2200577, step = 13601 (1.510 sec)\n",
      "INFO:tensorflow:global_step/sec: 65.6664\n",
      "INFO:tensorflow:loss = 1.221558, step = 13701 (1.524 sec)\n",
      "INFO:tensorflow:global_step/sec: 66.8736\n",
      "INFO:tensorflow:loss = 1.324035, step = 13801 (1.494 sec)\n",
      "INFO:tensorflow:global_step/sec: 66.5915\n",
      "INFO:tensorflow:loss = 1.249164, step = 13901 (1.502 sec)\n",
      "INFO:tensorflow:global_step/sec: 65.5758\n",
      "INFO:tensorflow:loss = 1.2896638, step = 14001 (1.528 sec)\n",
      "INFO:tensorflow:global_step/sec: 66.2568\n",
      "INFO:tensorflow:loss = 1.348731, step = 14101 (1.507 sec)\n",
      "INFO:tensorflow:global_step/sec: 66.2263\n",
      "INFO:tensorflow:loss = 1.2358263, step = 14201 (1.520 sec)\n",
      "INFO:tensorflow:global_step/sec: 65.6467\n",
      "INFO:tensorflow:loss = 1.2791418, step = 14301 (1.514 sec)\n",
      "INFO:tensorflow:global_step/sec: 66.287\n",
      "INFO:tensorflow:loss = 1.1619151, step = 14401 (1.509 sec)\n",
      "INFO:tensorflow:global_step/sec: 66.4207\n",
      "INFO:tensorflow:loss = 1.3316323, step = 14501 (1.516 sec)\n",
      "INFO:tensorflow:global_step/sec: 66.0029\n",
      "INFO:tensorflow:loss = 1.2665031, step = 14601 (1.505 sec)\n",
      "INFO:tensorflow:global_step/sec: 66.1989\n",
      "INFO:tensorflow:loss = 1.3189814, step = 14701 (1.510 sec)\n",
      "INFO:tensorflow:global_step/sec: 46.6904\n",
      "INFO:tensorflow:loss = 1.1402845, step = 14801 (2.142 sec)\n",
      "INFO:tensorflow:global_step/sec: 66.5438\n",
      "INFO:tensorflow:loss = 1.1710274, step = 14901 (1.506 sec)\n",
      "INFO:tensorflow:global_step/sec: 66.0834\n",
      "INFO:tensorflow:loss = 1.1050127, step = 15001 (1.512 sec)\n",
      "INFO:tensorflow:global_step/sec: 65.6513\n",
      "INFO:tensorflow:loss = 1.1620309, step = 15101 (1.522 sec)\n",
      "INFO:tensorflow:global_step/sec: 66.4996\n",
      "INFO:tensorflow:loss = 1.1591115, step = 15201 (1.502 sec)\n",
      "INFO:tensorflow:global_step/sec: 65.7719\n",
      "INFO:tensorflow:loss = 1.0474033, step = 15301 (1.520 sec)\n",
      "INFO:tensorflow:global_step/sec: 66.1113\n",
      "INFO:tensorflow:loss = 1.0419847, step = 15401 (1.512 sec)\n",
      "INFO:tensorflow:global_step/sec: 66.5373\n",
      "INFO:tensorflow:loss = 1.256107, step = 15501 (1.505 sec)\n",
      "INFO:tensorflow:global_step/sec: 66.5987\n",
      "INFO:tensorflow:loss = 1.0648358, step = 15601 (1.511 sec)\n",
      "INFO:tensorflow:global_step/sec: 65.3603\n",
      "INFO:tensorflow:loss = 1.0875609, step = 15701 (1.521 sec)\n",
      "INFO:tensorflow:global_step/sec: 66.7197\n",
      "INFO:tensorflow:loss = 1.2092443, step = 15801 (1.499 sec)\n",
      "INFO:tensorflow:global_step/sec: 66.0576\n",
      "INFO:tensorflow:loss = 1.1774689, step = 15901 (1.517 sec)\n",
      "INFO:tensorflow:global_step/sec: 66.0445\n",
      "INFO:tensorflow:loss = 1.2181131, step = 16001 (1.508 sec)\n",
      "INFO:tensorflow:global_step/sec: 66.8647\n",
      "INFO:tensorflow:loss = 1.0795554, step = 16101 (1.499 sec)\n",
      "INFO:tensorflow:global_step/sec: 66.1274\n",
      "INFO:tensorflow:loss = 1.1322998, step = 16201 (1.512 sec)\n",
      "INFO:tensorflow:global_step/sec: 65.4674\n",
      "INFO:tensorflow:loss = 1.1047633, step = 16301 (1.530 sec)\n",
      "INFO:tensorflow:global_step/sec: 65.5875\n",
      "INFO:tensorflow:loss = 1.0327187, step = 16401 (1.528 sec)\n",
      "INFO:tensorflow:global_step/sec: 66.2485\n",
      "INFO:tensorflow:loss = 1.1046755, step = 16501 (1.504 sec)\n",
      "INFO:tensorflow:global_step/sec: 65.8802\n",
      "INFO:tensorflow:loss = 0.9041376, step = 16601 (1.515 sec)\n",
      "INFO:tensorflow:global_step/sec: 65.7336\n",
      "INFO:tensorflow:loss = 1.198681, step = 16701 (1.523 sec)\n",
      "INFO:tensorflow:global_step/sec: 66.0666\n",
      "INFO:tensorflow:loss = 1.0629451, step = 16801 (1.517 sec)\n",
      "INFO:tensorflow:global_step/sec: 66.2298\n",
      "INFO:tensorflow:loss = 1.0346802, step = 16901 (1.509 sec)\n",
      "INFO:tensorflow:global_step/sec: 65.476\n",
      "INFO:tensorflow:loss = 1.0638757, step = 17001 (1.525 sec)\n",
      "INFO:tensorflow:global_step/sec: 65.8193\n",
      "INFO:tensorflow:loss = 1.0416343, step = 17101 (1.518 sec)\n",
      "INFO:tensorflow:global_step/sec: 66.2852\n",
      "INFO:tensorflow:loss = 1.1132256, step = 17201 (1.514 sec)\n",
      "INFO:tensorflow:global_step/sec: 65.779\n",
      "INFO:tensorflow:loss = 1.0875821, step = 17301 (1.517 sec)\n",
      "INFO:tensorflow:global_step/sec: 66.0886\n",
      "INFO:tensorflow:loss = 0.9622107, step = 17401 (1.511 sec)\n"
     ]
    },
    {
     "name": "stdout",
     "output_type": "stream",
     "text": [
      "INFO:tensorflow:global_step/sec: 65.9023\n",
      "INFO:tensorflow:loss = 1.0903451, step = 17501 (1.519 sec)\n",
      "INFO:tensorflow:global_step/sec: 66.5571\n",
      "INFO:tensorflow:loss = 0.9240308, step = 17601 (1.503 sec)\n",
      "INFO:tensorflow:global_step/sec: 65.7189\n",
      "INFO:tensorflow:loss = 1.0084114, step = 17701 (1.526 sec)\n",
      "INFO:tensorflow:global_step/sec: 65.5523\n",
      "INFO:tensorflow:loss = 1.0235677, step = 17801 (1.523 sec)\n",
      "INFO:tensorflow:global_step/sec: 65.9325\n",
      "INFO:tensorflow:loss = 0.9433203, step = 17901 (1.516 sec)\n",
      "INFO:tensorflow:global_step/sec: 65.6471\n",
      "INFO:tensorflow:loss = 1.014067, step = 18001 (1.526 sec)\n",
      "INFO:tensorflow:global_step/sec: 65.612\n",
      "INFO:tensorflow:loss = 0.9125022, step = 18101 (1.519 sec)\n",
      "INFO:tensorflow:global_step/sec: 66.0979\n",
      "INFO:tensorflow:loss = 0.9867853, step = 18201 (1.518 sec)\n",
      "INFO:tensorflow:global_step/sec: 66.1378\n",
      "INFO:tensorflow:loss = 0.9934994, step = 18301 (1.518 sec)\n",
      "INFO:tensorflow:global_step/sec: 65.4059\n",
      "INFO:tensorflow:loss = 0.98996925, step = 18401 (1.525 sec)\n",
      "INFO:tensorflow:global_step/sec: 66.3625\n",
      "INFO:tensorflow:loss = 0.9625273, step = 18501 (1.503 sec)\n",
      "INFO:tensorflow:global_step/sec: 65.702\n",
      "INFO:tensorflow:loss = 0.9280844, step = 18601 (1.523 sec)\n",
      "INFO:tensorflow:global_step/sec: 66.1996\n",
      "INFO:tensorflow:loss = 0.7737198, step = 18701 (1.506 sec)\n",
      "INFO:tensorflow:global_step/sec: 66.2448\n",
      "INFO:tensorflow:loss = 1.0328724, step = 18801 (1.512 sec)\n",
      "INFO:tensorflow:global_step/sec: 48.3967\n",
      "INFO:tensorflow:loss = 1.0649081, step = 18901 (2.065 sec)\n",
      "INFO:tensorflow:global_step/sec: 66.1683\n",
      "INFO:tensorflow:loss = 0.939975, step = 19001 (1.510 sec)\n",
      "INFO:tensorflow:global_step/sec: 66.4533\n",
      "INFO:tensorflow:loss = 0.96952164, step = 19101 (1.514 sec)\n",
      "INFO:tensorflow:global_step/sec: 65.9474\n",
      "INFO:tensorflow:loss = 0.84696317, step = 19201 (1.510 sec)\n",
      "INFO:tensorflow:global_step/sec: 66.1978\n",
      "INFO:tensorflow:loss = 0.9928782, step = 19301 (1.512 sec)\n",
      "INFO:tensorflow:global_step/sec: 65.5372\n",
      "INFO:tensorflow:loss = 0.8908813, step = 19401 (1.528 sec)\n",
      "INFO:tensorflow:global_step/sec: 66.567\n",
      "INFO:tensorflow:loss = 0.87942517, step = 19501 (1.495 sec)\n",
      "INFO:tensorflow:global_step/sec: 66.2947\n",
      "INFO:tensorflow:loss = 0.92163277, step = 19601 (1.509 sec)\n",
      "INFO:tensorflow:global_step/sec: 65.8428\n",
      "INFO:tensorflow:loss = 0.9778695, step = 19701 (1.523 sec)\n",
      "INFO:tensorflow:global_step/sec: 66.3046\n",
      "INFO:tensorflow:loss = 0.899196, step = 19801 (1.509 sec)\n",
      "INFO:tensorflow:global_step/sec: 66.379\n",
      "INFO:tensorflow:loss = 0.9065141, step = 19901 (1.513 sec)\n",
      "INFO:tensorflow:Saving checkpoints for 20000 into drive/tmp/checkpoint/model.ckpt.\n",
      "INFO:tensorflow:Loss for final step: 0.8475211.\n",
      "INFO:tensorflow:Calling model_fn.\n",
      "INFO:tensorflow:Done calling model_fn.\n",
      "INFO:tensorflow:Starting evaluation at 2018-03-22-04:53:09\n",
      "INFO:tensorflow:Graph was finalized.\n",
      "INFO:tensorflow:Restoring parameters from drive/tmp/checkpoint/model.ckpt-20000\n",
      "INFO:tensorflow:Running local_init_op.\n",
      "INFO:tensorflow:Done running local_init_op.\n",
      "INFO:tensorflow:Evaluation [10/100]\n",
      "INFO:tensorflow:Evaluation [20/100]\n",
      "INFO:tensorflow:Evaluation [30/100]\n",
      "INFO:tensorflow:Evaluation [40/100]\n",
      "INFO:tensorflow:Evaluation [50/100]\n",
      "INFO:tensorflow:Evaluation [60/100]\n",
      "INFO:tensorflow:Evaluation [70/100]\n",
      "INFO:tensorflow:Evaluation [80/100]\n",
      "INFO:tensorflow:Evaluation [90/100]\n",
      "INFO:tensorflow:Evaluation [100/100]\n",
      "INFO:tensorflow:Finished evaluation at 2018-03-22-04:53:11\n",
      "INFO:tensorflow:Saving dict for global step 20000: accuracy = 0.7169531, global_step = 20000, loss = 0.8681441\n",
      "INFO:tensorflow:Calling model_fn.\n",
      "INFO:tensorflow:Done calling model_fn.\n",
      "INFO:tensorflow:Starting evaluation at 2018-03-22-04:53:12\n",
      "INFO:tensorflow:Graph was finalized.\n",
      "INFO:tensorflow:Restoring parameters from drive/tmp/checkpoint/model.ckpt-20000\n",
      "INFO:tensorflow:Running local_init_op.\n",
      "INFO:tensorflow:Done running local_init_op.\n",
      "INFO:tensorflow:Evaluation [1/1]\n",
      "INFO:tensorflow:Finished evaluation at 2018-03-22-04:53:13\n",
      "INFO:tensorflow:Saving dict for global step 20000: accuracy = 0.703125, global_step = 20000, loss = 0.86460507\n",
      "{'accuracy': 0.703125, 'loss': 0.86460507, 'global_step': 20000}\n"
     ]
    }
   ],
   "source": [
    "if __name__ == '__main__':\n",
    "    main(None)"
   ]
  },
  {
   "cell_type": "markdown",
   "metadata": {
    "colab_type": "text",
    "id": "A9A9P96T7NKz"
   },
   "source": [
    "## Bài tập\n",
    "\n",
    "Bài nộp của sinh viên là chính là **file này** sau khi được đổi tên thành **MSSV.E12_RNN.ipynb** và đừng quên ghi thông tin sinh viên vào các ô ở dưới.\n",
    "\n",
    "Địa chỉ nộp bài: https://www.dropbox.com/request/JJaAIeWgznaERPzV74fO\n",
    "\n",
    "Deadline nộp bài: **10:00 thứ 2 tuần tiếp theo**\n",
    "\n",
    "**Quy tắc chấm điểm (áp dụng từ bài này tới các bài sau nếu không có chú thích gì thêm)**\n",
    "- *Điểm bài này sẽ được tổng hợp với điểm chấm trên lớp (nếu có) để ra điểm cuối cùng, do đó sinh viên vắng học trên lớp dù làm bài có toàn vẹn cũng có thể nhận được điểm thấp hơn điểm tối đa*\n",
    "\n",
    "\n",
    "Thông tin sinh viên:"
   ]
  },
  {
   "cell_type": "code",
   "execution_count": null,
   "metadata": {
    "colab": {
     "autoexec": {
      "startup": false,
      "wait_interval": 0
     }
    },
    "colab_type": "code",
    "id": "fI5u41pK7NK0",
    "vscode": {
     "languageId": "python"
    }
   },
   "outputs": [],
   "source": [
    "sid = '2013452'\n",
    "name = 'Đào Quốc Khánh'\n",
    "\n",
    "import tensorflow as tf\n",
    "import numpy as np\n",
    "\n",
    "# sinh viên import các thư viện cần thiết ở đây"
   ]
  },
  {
   "cell_type": "markdown",
   "metadata": {
    "colab_type": "text",
    "id": "toL7zw9p7NK3"
   },
   "source": [
    "\n",
    "Hãy vào thư mục code hiện tại, bạn sẽ thấy một thư mục có tên là *checkpoint*, dùng **tensorboard** để mở và xem những thông tin summary hữu ích trong quá trình training. Hãy chụp một ảnh và chèn vào đây.\n",
    "\n",
    "\n",
    "** Chèn hình tensorboard **\n",
    "\n",
    "Điều chỉnh tham số phù hợp để evaluate sau mỗi 1000 steps (hiện tại là sau mỗi 600 giây)\n",
    "\n",
    "Thay vì dùng giá trị learning rate cố định như code mẫu, hãy sử dụng tf.train.exponential_decay để điều chỉnh learning rate theo giá trị khởi đầu mong muốn và giảm phù hợp theo [get_global_step](https://www.tensorflow.org/api_docs/python/tf/train/get_global_step)\n",
    "\n",
    "Thêm learning rate đã điều chỉnh ở trên vào tensorboard summary để dễ dàng theo dõi (điều chỉnh code ở trên)\n",
    "\n",
    "\n",
    "Một trong những vấn đề của DL là overfitting, để phần nào giải quyết vấn đề đó, người ta thường dùng regularization và/hoặc dropout [tham khảo thêm](https://www.quora.com/How-does-the-dropout-method-work-in-deep-learning-And-why-is-it-claimed-to-be-an-effective-trick-to-improve-your-network). Hãy thêm dropout cho RNN cell sử dụng ở trên và l2_regularizer cho densely-connected layer.\n",
    "\n",
    "Hiện model chúng ta sử dụng BasicLSTMCell, và cho kết quả chưa đủ tốt (so với bài trước các em đã làm dùng CNN), hãy thử một số loại RNN cell khác nhau xem có cải thiện gì không. Tham khảo [RNN](https://www.tensorflow.org/versions/master/api_docs/python/tf/contrib/rnn)\n",
    "**Mỗi cách sử dụng, model khác nhau, sinh viên hãy tạo một hàm khác và truyền hàm đó vào ở hàm main, KHÔNG ghi đè model_fn cũ đã có**\n",
    "\n",
    "Điều chỉnh model theo ý muốn để lấy được kết quả tốt nhất có thể, một số gợi ý có thể tham khảo:\n",
    "- sử dụng [bidirectional recurrent neural network](https://www.tensorflow.org/api_docs/python/tf/nn/bidirectional_dynamic_rnn)\n",
    "- thay đổi các lớp (nhiều lớp hơn chẳng hạn)\n",
    "\n",
    "Hãy report (lưu **output** kết quả cuối cùng) em có thể đạt được. *Hai lần chạy khác nhau của cùng một model có thể ra kết quả sai khác nhau đôi chút, tuy nhiên, ở đây, chỉ xem xét kết quả cuối cùng mà các em lưu lại ở output*"
   ]
  },
  {
   "cell_type": "code",
   "execution_count": 1,
   "metadata": {
    "colab": {
     "autoexec": {
      "startup": false,
      "wait_interval": 0
     },
     "base_uri": "https://localhost:8080/",
     "height": 34,
     "output_extras": [
      {
       "item_id": 1
      }
     ]
    },
    "colab_type": "code",
    "executionInfo": {
     "elapsed": 1780,
     "status": "ok",
     "timestamp": 1521797379170,
     "user": {
      "displayName": "HUNG VO THANH",
      "photoUrl": "https://lh3.googleusercontent.com/a/default-user=s128",
      "userId": "105159552521207861593"
     },
     "user_tz": -420
    },
    "id": "jrK1pkfp7NK5",
    "outputId": "96798c5d-995c-4ebd-af7c-774d1f66a9e0",
    "vscode": {
     "languageId": "python"
    }
   },
   "outputs": [
    {
     "name": "stdout",
     "output_type": "stream",
     "text": [
      "datalab\r\n"
     ]
    }
   ],
   "source": [
    "!ls"
   ]
  },
  {
   "cell_type": "code",
   "execution_count": 2,
   "metadata": {
    "colab": {
     "autoexec": {
      "startup": false,
      "wait_interval": 0
     },
     "base_uri": "https://localhost:8080/",
     "height": 252,
     "output_extras": [
      {
       "item_id": 3
      }
     ]
    },
    "colab_type": "code",
    "executionInfo": {
     "elapsed": 65111,
     "status": "ok",
     "timestamp": 1521797528480,
     "user": {
      "displayName": "HUNG VO THANH",
      "photoUrl": "https://lh3.googleusercontent.com/a/default-user=s128",
      "userId": "105159552521207861593"
     },
     "user_tz": -420
    },
    "id": "WwjALL8E80M2",
    "outputId": "c38c37ba-d520-473c-e023-ec7c7767dcb0",
    "vscode": {
     "languageId": "python"
    }
   },
   "outputs": [
    {
     "name": "stdout",
     "output_type": "stream",
     "text": [
      "Please, open the following URL in a web browser: https://accounts.google.com/o/oauth2/auth?client_id=32555940559.apps.googleusercontent.com&redirect_uri=urn%3Aietf%3Awg%3Aoauth%3A2.0%3Aoob&scope=https%3A%2F%2Fwww.googleapis.com%2Fauth%2Fdrive&response_type=code&access_type=offline&approval_prompt=force\r\n",
      "··········\n",
      "Please, open the following URL in a web browser: https://accounts.google.com/o/oauth2/auth?client_id=32555940559.apps.googleusercontent.com&redirect_uri=urn%3Aietf%3Awg%3Aoauth%3A2.0%3Aoob&scope=https%3A%2F%2Fwww.googleapis.com%2Fauth%2Fdrive&response_type=code&access_type=offline&approval_prompt=force\n",
      "Please enter the verification code: Cannot retrieve auth tokens.\n",
      "Failure(\"Unexpected error response: {\\n  \\\"error\\\" : \\\"invalid_grant\\\",\\n  \\\"error_description\\\" : \\\"Code was already redeemed.\\\"\\n}\")\n"
     ]
    }
   ],
   "source": [
    "!apt-get install -y -qq software-properties-common python-software-properties module-init-tools\n",
    "!add-apt-repository -y ppa:alessandro-strada/ppa 2>&1 > /dev/null\n",
    "!apt-get update -qq 2>&1 > /dev/null\n",
    "!apt-get -y install -qq google-drive-ocamlfuse fuse\n",
    "from google.colab import auth\n",
    "auth.authenticate_user()\n",
    "from oauth2client.client import GoogleCredentials\n",
    "creds = GoogleCredentials.get_application_default()\n",
    "import getpass\n",
    "!google-drive-ocamlfuse -headless -id={creds.client_id} -secret={creds.client_secret} < /dev/null 2>&1 | grep URL\n",
    "vcode = getpass.getpass()\n",
    "!echo {vcode} | google-drive-ocamlfuse -headless -id={creds.client_id} -secret={creds.client_secret}"
   ]
  },
  {
   "cell_type": "code",
   "execution_count": null,
   "metadata": {
    "colab": {
     "autoexec": {
      "startup": false,
      "wait_interval": 0
     }
    },
    "colab_type": "code",
    "id": "41ENVFSD_yUA",
    "vscode": {
     "languageId": "python"
    }
   },
   "outputs": [],
   "source": [
    "!mkdir -p drive\n",
    "!google-drive-ocamlfuse drive"
   ]
  },
  {
   "cell_type": "code",
   "execution_count": 4,
   "metadata": {
    "colab": {
     "autoexec": {
      "startup": false,
      "wait_interval": 0
     },
     "base_uri": "https://localhost:8080/",
     "height": 793,
     "output_extras": [
      {
       "item_id": 24
      },
      {
       "item_id": 121
      },
      {
       "item_id": 196
      },
      {
       "item_id": 264
      },
      {
       "item_id": 313
      },
      {
       "item_id": 381
      }
     ]
    },
    "colab_type": "code",
    "executionInfo": {
     "elapsed": 142869,
     "status": "ok",
     "timestamp": 1521696770161,
     "user": {
      "displayName": "HUNG VO THANH",
      "photoUrl": "https://lh3.googleusercontent.com/a/default-user=s128",
      "userId": "105159552521207861593"
     },
     "user_tz": -420
    },
    "id": "Nee1ENPg_0Tj",
    "outputId": "80640ba6-dfcd-411e-c887-d0907498e882",
    "vscode": {
     "languageId": "python"
    }
   },
   "outputs": [
    {
     "name": "stdout",
     "output_type": "stream",
     "text": [
      "/usr/local/lib/python3.6/dist-packages/h5py/__init__.py:36: FutureWarning: Conversion of the second argument of issubdtype from `float` to `np.floating` is deprecated. In future, it will be treated as `np.float64 == np.dtype(float).type`.\n",
      "  from ._conv import register_converters as _register_converters\n",
      "Using TensorFlow backend.\n",
      "Downloading data from https://s3.amazonaws.com/img-datasets/mnist.npz\n",
      "11493376/11490434 [==============================] - 1s 0us/step\n",
      "x_train shape: (60000, 28, 28, 1)\n",
      "60000 train samples\n",
      "10000 test samples\n",
      "Train on 60000 samples, validate on 10000 samples\n",
      "Epoch 1/12\n",
      "2018-03-22 05:30:37.205769: I tensorflow/stream_executor/cuda/cuda_gpu_executor.cc:898] successful NUMA node read from SysFS had negative value (-1), but there must be at least one NUMA node, so returning NUMA node zero\n",
      "2018-03-22 05:30:37.206308: I tensorflow/core/common_runtime/gpu/gpu_device.cc:1212] Found device 0 with properties: \n",
      "name: Tesla K80 major: 3 minor: 7 memoryClockRate(GHz): 0.8235\n",
      "pciBusID: 0000:00:04.0\n",
      "totalMemory: 11.17GiB freeMemory: 11.11GiB\n",
      "2018-03-22 05:30:37.206345: I tensorflow/core/common_runtime/gpu/gpu_device.cc:1312] Adding visible gpu devices: 0\n",
      "2018-03-22 05:30:37.482660: I tensorflow/core/common_runtime/gpu/gpu_device.cc:993] Creating TensorFlow device (/job:localhost/replica:0/task:0/device:GPU:0 with 10774 MB memory) -> physical GPU (device: 0, name: Tesla K80, pci bus id: 0000:00:04.0, compute capability: 3.7)\n",
      "20992/60000 [=========>....................] - ETA: 10s - loss: 0.5089 - acc: 0.838060000/60000 [==============================] - 13s 211us/step - loss: 0.2729 - acc: 0.9158 - val_loss: 0.0769 - val_acc: 0.9759\n",
      "Epoch 2/12\n",
      "60000/60000 [==============================] - 11s 179us/step - loss: 0.0913 - acc: 0.9728 - val_loss: 0.0401 - val_acc: 0.9865\n",
      "Epoch 3/12\n",
      "59136/60000 [============================>.] - ETA: 0s - loss: 0.0670 - acc: 0.979960000/60000 [==============================] - 11s 179us/step - loss: 0.0668 - acc: 0.9800 - val_loss: 0.0362 - val_acc: 0.9876\n",
      "Epoch 4/12\n",
      "60000/60000 [==============================] - 11s 180us/step - loss: 0.0559 - acc: 0.9832 - val_loss: 0.0324 - val_acc: 0.9887\n",
      "Epoch 5/12\n",
      "60000/60000 [==============================] - 11s 180us/step - loss: 0.0473 - acc: 0.9860 - val_loss: 0.0372 - val_acc: 0.9869\n",
      "Epoch 6/12\n",
      " 5120/60000 [=>............................] - ETA: 9s - loss: 0.0378 - acc: 0.990460000/60000 [==============================] - 11s 179us/step - loss: 0.0421 - acc: 0.9873 - val_loss: 0.0329 - val_acc: 0.9898\n",
      "Epoch 7/12\n",
      "60000/60000 [==============================] - 11s 180us/step - loss: 0.0392 - acc: 0.9879 - val_loss: 0.0298 - val_acc: 0.9898\n",
      "Epoch 8/12\n",
      "54016/60000 [==========================>...] - ETA: 1s - loss: 0.0350 - acc: 0.988860000/60000 [==============================] - 11s 180us/step - loss: 0.0358 - acc: 0.9885 - val_loss: 0.0286 - val_acc: 0.9917\n",
      "Epoch 9/12\n",
      "60000/60000 [==============================] - 11s 180us/step - loss: 0.0332 - acc: 0.9902 - val_loss: 0.0297 - val_acc: 0.9901\n",
      "Epoch 10/12\n",
      "60000/60000 [==============================] - 11s 179us/step - loss: 0.0310 - acc: 0.9903 - val_loss: 0.0280 - val_acc: 0.9914\n",
      "Epoch 11/12\n",
      " 2432/60000 [>.............................] - ETA: 10s - loss: 0.0327 - acc: 0.988960000/60000 [==============================] - 11s 180us/step - loss: 0.0285 - acc: 0.9917 - val_loss: 0.0288 - val_acc: 0.9912\n",
      "Epoch 12/12\n",
      "60000/60000 [==============================] - 11s 179us/step - loss: 0.0269 - acc: 0.9918 - val_loss: 0.0288 - val_acc: 0.9912\n",
      "Test loss: 0.028817774107800915\n",
      "Test accuracy: 0.9912\n"
     ]
    }
   ],
   "source": [
    "!python3 drive/tmp/mnist_cnn.py"
   ]
  },
  {
   "cell_type": "code",
   "execution_count": null,
   "metadata": {
    "colab": {
     "autoexec": {
      "startup": false,
      "wait_interval": 0
     }
    },
    "colab_type": "code",
    "id": "g3FJFVR-_1Er",
    "vscode": {
     "languageId": "python"
    }
   },
   "outputs": [],
   "source": [
    "!kill -9 -1"
   ]
  },
  {
   "cell_type": "code",
   "execution_count": null,
   "metadata": {
    "colab": {
     "autoexec": {
      "startup": false,
      "wait_interval": 0
     }
    },
    "colab_type": "code",
    "id": "_7AiyF2F_3cZ",
    "vscode": {
     "languageId": "python"
    }
   },
   "outputs": [],
   "source": []
  }
 ],
 "metadata": {
  "accelerator": "GPU",
  "colab": {
   "collapsed_sections": [],
   "default_view": {},
   "name": "E12_RNN.ipynb",
   "provenance": [],
   "version": "0.3.2",
   "views": {}
  },
  "kernelspec": {
   "display_name": "Python 3 (ipykernel)",
   "language": "python",
   "name": "python3"
  },
  "language_info": {
   "codemirror_mode": {
    "name": "ipython",
    "version": 3
   },
   "file_extension": ".py",
   "mimetype": "text/x-python",
   "name": "python",
   "nbconvert_exporter": "python",
   "pygments_lexer": "ipython3",
   "version": "3.10.1"
  }
 },
 "nbformat": 4,
 "nbformat_minor": 1
}
