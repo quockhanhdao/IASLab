{
 "cells": [
  {
   "cell_type": "markdown",
   "metadata": {},
   "source": [
    "# Giới thiệu numpy"
   ]
  },
  {
   "cell_type": "markdown",
   "metadata": {},
   "source": [
    "Numpy là một thư viện rất hữu ích trong xử lý mảng, ma trận, ...\n",
    "Nó là một thư viện không thể thiếu khi làm việc với xử lý số học trên python"
   ]
  },
  {
   "cell_type": "markdown",
   "metadata": {},
   "source": [
    "Để sử dụng ta phải import thư viện và alias tên, numpy thường được gọi với tên \"np\" cho ngắn gọn"
   ]
  },
  {
   "cell_type": "code",
   "execution_count": null,
   "metadata": {
    "collapsed": true
   },
   "outputs": [],
   "source": [
    "import numpy as np"
   ]
  },
  {
   "cell_type": "markdown",
   "metadata": {},
   "source": [
    "## Các thao tác cơ bản"
   ]
  },
  {
   "cell_type": "code",
   "execution_count": null,
   "metadata": {},
   "outputs": [],
   "source": [
    "a = np.array([1, 2, 3])   # Create a rank 1 array\n",
    "print(type(a))            # Prints \"<class 'numpy.ndarray'>\"\n",
    "print(a.shape)            # Prints \"(3,)\""
   ]
  },
  {
   "cell_type": "code",
   "execution_count": null,
   "metadata": {},
   "outputs": [],
   "source": [
    "print(a[0], a[1], a[2])   # Prints \"1 2 3\"\n",
    "a[0] = 5                  # Change an element of the array\n",
    "print(a)                  # Prints \"[5, 2, 3]\"c = np.array( [ [1,2], [3,4] ], dtype=complex ) # complex number"
   ]
  },
  {
   "cell_type": "code",
   "execution_count": null,
   "metadata": {},
   "outputs": [],
   "source": [
    "c = np.array( [ [1,2], [3,4] ], dtype=complex ) # complex number\n",
    "print(c)"
   ]
  },
  {
   "cell_type": "markdown",
   "metadata": {},
   "source": [
    "** Truy xuất phần tử **\n",
    "\n",
    "Các thao tác truy xuất phần tử cơ bản giống python.\n",
    "\n",
    "Ngoài ra, numpy còn cung cấp các thao tác phức tạp hơn để truy xuất các phần tử thuận tiện hơn"
   ]
  },
  {
   "cell_type": "code",
   "execution_count": null,
   "metadata": {},
   "outputs": [],
   "source": [
    "a = np.array([[1,2,3],[4,5,6],[7,8,9]])\n",
    "print(a.shape, '\\n', a)\n",
    "\n",
    "# simple\n",
    "print('a[0] -> ', a[0])\n",
    "print('a[1][2] -> ', a[1][2])\n",
    "print('a[1,2] -> ' , a[1,2])"
   ]
  },
  {
   "cell_type": "markdown",
   "metadata": {},
   "source": [
    "Một số thao tác truy xuất phức tạp hơn về array"
   ]
  },
  {
   "cell_type": "code",
   "execution_count": null,
   "metadata": {},
   "outputs": [],
   "source": [
    "# range\n",
    "print(a[:2,:2])"
   ]
  },
  {
   "cell_type": "code",
   "execution_count": null,
   "metadata": {},
   "outputs": [],
   "source": [
    "print(a[:2,...])"
   ]
  },
  {
   "cell_type": "code",
   "execution_count": null,
   "metadata": {},
   "outputs": [],
   "source": [
    "print(a[:, 1])"
   ]
  },
  {
   "cell_type": "markdown",
   "metadata": {},
   "source": [
    "Thao tác có điều kiện"
   ]
  },
  {
   "cell_type": "code",
   "execution_count": null,
   "metadata": {},
   "outputs": [],
   "source": [
    "print(a[a>3])\n",
    "\n",
    "cnd = (a > 3)\n",
    "print(cnd)\n",
    "\n",
    "print(a[cnd])"
   ]
  },
  {
   "cell_type": "markdown",
   "metadata": {},
   "source": [
    "Một số thao tác khởi tạo gán giá trị hữu ích"
   ]
  },
  {
   "cell_type": "code",
   "execution_count": null,
   "metadata": {},
   "outputs": [],
   "source": [
    "a = np.zeros((2,2))   \n",
    "print(a)"
   ]
  },
  {
   "cell_type": "code",
   "execution_count": null,
   "metadata": {},
   "outputs": [],
   "source": [
    "b = np.ones((1,2))    # Create an array of all ones\n",
    "print(b)              # Prints \"[[ 1.  1.]]\""
   ]
  },
  {
   "cell_type": "code",
   "execution_count": null,
   "metadata": {},
   "outputs": [],
   "source": [
    "c = np.full((2,2), 7)  # Create a constant array\n",
    "print(c)"
   ]
  },
  {
   "cell_type": "code",
   "execution_count": null,
   "metadata": {},
   "outputs": [],
   "source": [
    "e = np.random.random((2,2))  # Create an array filled with random values\n",
    "print(e)                     # Might print \"[[ 0.91940167  0.08143941]\n",
    "                             #               [ 0.68744134  0.87236687]]\""
   ]
  },
  {
   "cell_type": "code",
   "execution_count": null,
   "metadata": {},
   "outputs": [],
   "source": [
    "# Create an empty array\n",
    "print(np.empty((3,2)))"
   ]
  },
  {
   "cell_type": "code",
   "execution_count": null,
   "metadata": {},
   "outputs": [],
   "source": [
    "# Create an array of evenly-spaced values\n",
    "print(np.arange(10,125,5))"
   ]
  },
  {
   "cell_type": "code",
   "execution_count": null,
   "metadata": {},
   "outputs": [],
   "source": [
    "# Create an array of evenly-spaced values\n",
    "print(np.linspace(0,2,9))"
   ]
  },
  {
   "cell_type": "code",
   "execution_count": null,
   "metadata": {},
   "outputs": [],
   "source": [
    "print(np.eye(2))         # Create a 2x2 identity matrix"
   ]
  },
  {
   "cell_type": "code",
   "execution_count": null,
   "metadata": {},
   "outputs": [],
   "source": [
    "print(np.identity(3))"
   ]
  },
  {
   "cell_type": "markdown",
   "metadata": {},
   "source": [
    "## Thêm bớt phần tử vào array"
   ]
  },
  {
   "cell_type": "code",
   "execution_count": null,
   "metadata": {},
   "outputs": [],
   "source": [
    "a = np.arange(24)\n",
    "a = a.reshape((2,3,4))\n",
    "a"
   ]
  },
  {
   "cell_type": "code",
   "execution_count": null,
   "metadata": {},
   "outputs": [],
   "source": [
    "new_a = np.append(a, [0,1,2,3])\n",
    "new_a"
   ]
  },
  {
   "cell_type": "code",
   "execution_count": null,
   "metadata": {},
   "outputs": [],
   "source": [
    "a = np.arange(6).reshape((2,3))\n",
    "print(a)\n",
    "np.append(a, np.asarray([[1],[2]]), axis=1)"
   ]
  },
  {
   "cell_type": "code",
   "execution_count": null,
   "metadata": {},
   "outputs": [],
   "source": [
    "np.append(a, np.asarray([[8,9,10]]), axis=0)"
   ]
  },
  {
   "cell_type": "code",
   "execution_count": null,
   "metadata": {},
   "outputs": [],
   "source": [
    "np.append(a, np.asarray([[8,9,10], [11,12,13]]), axis=0)"
   ]
  },
  {
   "cell_type": "markdown",
   "metadata": {},
   "source": [
    "## Làm việc với file dữ liệu\n",
    "\n",
    "** Tải dữ liệu từ text file **\n",
    "\n",
    "Ví dụ file 'data.txt' ở thư mục data chứa nội dung như sau:\n",
    "\n",
    "        Value1  Value2  Value3\n",
    "        0.2536  0.1008  0.3857\n",
    "        0.4839  0.4536  0.3561\n",
    "        0.1292  0.6875  0.5929\n",
    "        0.1781  0.3049  0.8928\n",
    "        0.6253  0.3486  0.8791"
   ]
  },
  {
   "cell_type": "code",
   "execution_count": null,
   "metadata": {},
   "outputs": [],
   "source": [
    "# required file exist\n",
    "x, y, z = np.loadtxt('data/data.txt',\n",
    "                    skiprows=1,\n",
    "                    unpack=True)\n",
    "print('x = ', x)\n",
    "print('y = ', y)\n",
    "print('z = ', z)"
   ]
  },
  {
   "cell_type": "markdown",
   "metadata": {},
   "source": [
    "** Lưu dữ liệu vào file text **"
   ]
  },
  {
   "cell_type": "code",
   "execution_count": null,
   "metadata": {
    "collapsed": true
   },
   "outputs": [],
   "source": [
    "x = np.arange(0.0,5.0,1.0)\n",
    "np.savetxt('data/test.out', x, delimiter=',')"
   ]
  },
  {
   "cell_type": "markdown",
   "metadata": {},
   "source": [
    "## NumPy Broadcasting"
   ]
  },
  {
   "cell_type": "markdown",
   "metadata": {},
   "source": [
    "Đây là một trong những thao tác mạnh mẽ mà numpy hỗ trợ khi xử lý với dữ liệu dạng mảng.\n",
    "\n",
    "Ví dụ dưới thực hiện cộng hai ma trận x và y để tạo ra ma trận z, trong trường hợp này x, y có cùng shape"
   ]
  },
  {
   "cell_type": "code",
   "execution_count": null,
   "metadata": {},
   "outputs": [],
   "source": [
    "# Initialize `x`\n",
    "x = np.ones((3,4))\n",
    "\n",
    "# Check shape of `x`\n",
    "print(x.shape, '\\n', x)\n",
    "\n",
    "# Initialize `y`\n",
    "y = np.random.random((3,4))\n",
    "\n",
    "# Check shape of `y`\n",
    "print(y.shape)\n",
    "\n",
    "# Add `x` and `y`\n",
    "z = x + y\n",
    "print(z.shape) # same shape as x, y\n",
    "print(z)"
   ]
  },
  {
   "cell_type": "markdown",
   "metadata": {},
   "source": [
    "Trường hợp này thì khác"
   ]
  },
  {
   "cell_type": "code",
   "execution_count": null,
   "metadata": {},
   "outputs": [],
   "source": [
    "# print x info\n",
    "print(x.shape, '\\n', x)\n",
    "\n",
    "# Initialize `y`\n",
    "t = np.arange(4)\n",
    "print(t.shape, t)\n",
    "\n",
    "# Subtract `x` and `y`\n",
    "print(x - y)"
   ]
  },
  {
   "cell_type": "markdown",
   "metadata": {},
   "source": [
    "** *Phép toán này thì thế nào?* **"
   ]
  },
  {
   "cell_type": "code",
   "execution_count": null,
   "metadata": {},
   "outputs": [],
   "source": [
    "print(x + 5)  # what output?\n",
    "\n",
    "# and\n",
    "print(x.shape, '\\n', x)\n",
    "y1 = np.random.random((5,1,4))\n",
    "print(y1)\n",
    "\n",
    "# Add `x` and `y`\n",
    "x + y1"
   ]
  },
  {
   "cell_type": "markdown",
   "metadata": {},
   "source": [
    "** Một số hàm hữu ích của numpy **\n",
    "\n",
    "    np.add(), np.subtract(), np.multiply(), np.divide() and np.remainder()\n",
    "    np.exp() and np.sqrt()\n",
    "    np.sin() and np.cos()\n",
    "    np.log()\n",
    "    np.dot()"
   ]
  },
  {
   "cell_type": "markdown",
   "metadata": {},
   "source": [
    "## Làm việc với shape"
   ]
  },
  {
   "cell_type": "code",
   "execution_count": null,
   "metadata": {},
   "outputs": [],
   "source": [
    "a = np.arange(36)\n",
    "print(a.shape, a)\n",
    "b = np.resize(a, (9,4))\n",
    "print(b.shape, '\\n', b)"
   ]
  },
  {
   "cell_type": "code",
   "execution_count": null,
   "metadata": {},
   "outputs": [],
   "source": [
    "a.resize((4,9))\n",
    "print('a info', a.shape, '\\n', a)"
   ]
  },
  {
   "cell_type": "code",
   "execution_count": null,
   "metadata": {},
   "outputs": [],
   "source": [
    "d = a.reshape((36,))\n",
    "print('d', d)\n",
    "print('d size', d.size)"
   ]
  },
  {
   "cell_type": "code",
   "execution_count": null,
   "metadata": {},
   "outputs": [],
   "source": [
    "print(a)\n",
    "print('flat ', a.ravel())"
   ]
  },
  {
   "cell_type": "markdown",
   "metadata": {},
   "source": [
    "Một số nguồn tham khảo thêm về numpy:\n",
    "- http://www.numpy.org/\n",
    "- https://docs.scipy.org/doc/numpy-dev/user/quickstart.html\n",
    "- https://www.datacamp.com/community/tutorials/python-numpy-tutorial"
   ]
  },
  {
   "cell_type": "markdown",
   "metadata": {},
   "source": [
    "## Bài tập\n",
    "\n",
    "Sinh viên được yêu cầu hoàn thành các bài tập sau đây và nộp cho thầy hướng dẫn\n",
    "\n",
    "Bài nộp của sinh viên là chính là **file này** sau khi được đổi tên thành **MSSV.E8_introduction_numpy.ipynb** và đừng quên ghi thông tin sinh viên vào các ô ở dưới.\n",
    "\n",
    "Địa chỉ nộp bài: https://www.dropbox.com/request/NLGab2sGtABTGwtjASQU\n",
    "\n",
    "Deadline nộp bài: **10:00 thứ 2 tuần tiếp theo**\n",
    "\n",
    "*Điểm bài này sẽ được tổng hợp với điểm chấm trên lớp (nếu có) để ra điểm cuối cùng*"
   ]
  },
  {
   "cell_type": "markdown",
   "metadata": {},
   "source": [
    "**Bài 1**: Sinh viên hãy vào trang web sau để lấy dữ liệu và đọc mô tả về dữ liệu:\n",
    "http://archive.ics.uci.edu/ml/datasets/Abalone\n",
    "\n",
    "1) Viết đoạn chương trình để load dữ liệu từ file abalone.data vào\n",
    "\n",
    "2) Đề xuất và viết code xử lý với trường dữ liệu nominal (trường sex)\n",
    "\n",
    "3) Viết hàm để với mỗi dòng dữ liệu trả về dạng {'X': np.array, 't': np.int32} phù hợp với bài toán (yêu cầu hàm lazy evaluation)\n",
    "\n",
    "4) Viết hàm get_batch(batch_size=16) sử dụng hàm ở 3 để trả về mỗi lần một \"batch\" với kích thước batch_size. Dạng của output {'X': np.array, 't': np.array}, với shape tương ứng là (batch_size, ?) và (batch_size,) (yêu cầu hàm lazy evaluation)\n",
    "\n",
    "*Sinh viên viết code tương ứng vào các phần bên dưới*"
   ]
  },
  {
   "cell_type": "markdown",
   "metadata": {},
   "source": [
    "## Thông tin sinh viên:"
   ]
  },
  {
   "cell_type": "code",
   "execution_count": 1,
   "metadata": {},
   "outputs": [],
   "source": [
    "sid = '2013452'\n",
    "name = 'Đào Quốc Khánh'\n",
    "\n",
    "import numpy as np\n",
    "import pandas as pd"
   ]
  },
  {
   "cell_type": "code",
   "execution_count": 3,
   "metadata": {},
   "outputs": [],
   "source": [
    "# Bai 2-1\n",
    "data =  pd.read_csv('abalone.data', sep = \",\", header = None)\n",
    "data = data.to_numpy()"
   ]
  },
  {
   "cell_type": "code",
   "execution_count": 4,
   "metadata": {},
   "outputs": [
    {
     "name": "stdout",
     "output_type": "stream",
     "text": [
      "Length of data:  4177\n",
      "Number of Male:  1528\n",
      "Number of Female:  1307\n",
      "Number of Infant:  1342\n"
     ]
    }
   ],
   "source": [
    "# Bai 2-2\n",
    "Sex = data[:, 0]\n",
    "Sex_M = 0\n",
    "Sex_F = 0\n",
    "Sex_I = 0\n",
    "for i in Sex:\n",
    "    if i == 'M':\n",
    "        Sex_M += 1\n",
    "    elif i == 'F':\n",
    "        Sex_F += 1\n",
    "    else:\n",
    "        Sex_I += 1\n",
    "print('Length of data: ', len(data))\n",
    "print('Number of Male: ', Sex_M)\n",
    "print('Number of Female: ', Sex_F)\n",
    "print('Number of Infant: ', Sex_I)"
   ]
  },
  {
   "cell_type": "code",
   "execution_count": 6,
   "metadata": {},
   "outputs": [],
   "source": [
    "# Bai 2-3\n",
    "def solve(data):\n",
    "    n = data.shape[0]\n",
    "    for i in range(n):\n",
    "        yield data[i, :]"
   ]
  },
  {
   "cell_type": "code",
   "execution_count": 8,
   "metadata": {},
   "outputs": [],
   "source": [
    "# Bai 2-4\n",
    "def get_batch(batch_size = 16):\n",
    "    start, end = 0, batch_size\n",
    "    total_batch = int(data.shape[0] / batch_size)\n",
    "    for i in range(total_batch):\n",
    "        yield solve(data[start:end, :])\n",
    "        start += batch_size\n",
    "        end += batch_size"
   ]
  }
 ],
 "metadata": {
  "kernelspec": {
   "display_name": "Python 3 (ipykernel)",
   "language": "python",
   "name": "python3"
  },
  "language_info": {
   "codemirror_mode": {
    "name": "ipython",
    "version": 3
   },
   "file_extension": ".py",
   "mimetype": "text/x-python",
   "name": "python",
   "nbconvert_exporter": "python",
   "pygments_lexer": "ipython3",
   "version": "3.10.1"
  }
 },
 "nbformat": 4,
 "nbformat_minor": 2
}
